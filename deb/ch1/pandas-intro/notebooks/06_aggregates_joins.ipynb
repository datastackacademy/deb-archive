{
 "cells": [
  {
   "cell_type": "markdown",
   "metadata": {},
   "source": [
    "## Aggregates and Joins\n",
    "\n",
    "<br/>\n",
    "\n",
    "### Summary Methods\n",
    "\n",
    "Pandas provides a series of very helpful summary functions. These functions provide easy and quick overview of data inside the Dataframe. We can easily get things like _counts_, _mean values_, _unique counts_, and _frequency of values_: \n"
   ]
  },
  {
   "cell_type": "code",
   "execution_count": null,
   "metadata": {},
   "outputs": [],
   "source": [
    "import pandas as pd\n",
    "\n",
    "# read data fom csv\n",
    "flights = pd.read_csv('../data/flights.csv', header=0)\n",
    "\n",
    "# invoke summary methods on columns\n",
    "# describe method on a text field\n",
    "flights.src.describe()\n",
    "# describe method on float field\n",
    "flights.flight_time.describe()\n",
    "\n",
    "# getting unique values\n",
    "flights.airline.unique()"
   ]
  },
  {
   "cell_type": "markdown",
   "metadata": {},
   "source": [
    "\n",
    "<br/>\n",
    "\n",
    "### Aggregates\n",
    "\n",
    "Pandas provides a `.groupby()` method which makes it easy to compute aggregates over the Dataframe. This is very handy to find things like sums, counts, min. and max values.\n",
    "\n",
    "The example below shows how to use `count()`, `sum()`, `min()`, and `max()`:"
   ]
  },
  {
   "cell_type": "code",
   "execution_count": null,
   "metadata": {},
   "outputs": [],
   "source": [
    "import pandas as pd\n",
    "\n",
    "# read data fom csv\n",
    "flights = pd.read_csv('../data/flights.csv', header=0)\n",
    "\n",
    "# get flight counts by airline\n",
    "flights_per_airline = flights.groupby('airline').flight_number.count()\n",
    "\n",
    "# total traveled miles by airlines\n",
    "miles_per_airline = flights.groupby('airline').distance.sum()\n",
    "# use other functions like min, max with aggregates\n",
    "min_distance_per_airlines = flights.groupby('airline').distance.min()\n",
    "max_distance_per_airlines = flights.groupby('airline').distance.max()\n",
    "\n",
    "print(\"flights per airline:\\n\", flights_per_airline.head(5))\n",
    "print(\"miles per airline:\\n\", miles_per_airline.head(5))\n",
    "print(\"min distance per airline:\\n\", min_distance_per_airlines.head(5))\n",
    "print(\"max distance per airline:\\n\", max_distance_per_airlines.head(5))"
   ]
  },
  {
   "cell_type": "markdown",
   "metadata": {},
   "source": [
    "\n",
    "<br/>\n",
    "\n",
    "#### Multiple Aggregates Stiched Together\n",
    "\n",
    "The example below shows how you can create a grouped (aggregated) series to compute different aggregate on multiple columns, or even apply a tranformation, and then stiched everything back to display the results. \n",
    "\n",
    "The key here is that pandas creates an indexed series when you use a `.groupby()` method. The index is set to the group keys used for any consequent aggregates:\n"
   ]
  },
  {
   "cell_type": "code",
   "execution_count": null,
   "metadata": {},
   "outputs": [],
   "source": [
    "# create a grouped series\n",
    "grouped = flights.groupby('airline')\n",
    "# create aggregates series\n",
    "flight_count = grouped.flight_number.count()\n",
    "total_distance = grouped.distance.sum()\n",
    "min_distance = grouped.distance.min()\n",
    "max_distance = grouped.distance.max()\n",
    "# change series names\n",
    "flight_count.name,  total_distance.name = 'flight_count', 'total_distance'\n",
    "min_distance.name, max_distance.name = 'min_dist', 'max_dist'\n",
    "# stich back the aggregated together\n",
    "stiched_back = pd.concat([flight_count, total_distance, min_distance, max_distance], axis=1)\n",
    "\n",
    "# print\n",
    "print(stiched_back.head(5))"
   ]
  },
  {
   "cell_type": "markdown",
   "metadata": {},
   "source": [
    "\n",
    "<br/>\n",
    "\n",
    "#### Multiple Aggregates Using .aggr()\n",
    "\n",
    "Alternatively, pandas provides the `.agg()` method to apply multiple aggregates on a column at the same time. You can accomplished the same results much more concisely by using the `.agg()` method such as:\n"
   ]
  },
  {
   "cell_type": "code",
   "execution_count": null,
   "metadata": {},
   "outputs": [],
   "source": [
    "# create a grouped series\n",
    "grouped = flights.groupby('airline').distance.agg([len, sum, min, max])\n",
    "print(grouped.head(5))\n"
   ]
  },
  {
   "cell_type": "markdown",
   "metadata": {},
   "source": [
    "\n",
    "<br/>\n",
    "\n",
    "#### GroupBy Multiple Columns\n",
    "\n",
    "You can pass an array of columns to `groupby()` method to aggregate by multiple columns at the same time. The example below calcualtes flight counts per airline route (airline, src, dest):\n"
   ]
  },
  {
   "cell_type": "code",
   "execution_count": null,
   "metadata": {},
   "outputs": [],
   "source": [
    "# get flight counts for dictinct routes\n",
    "flights_per_route = flights.groupby(['airline', 'src', 'dest']).flight_number.count()\n",
    "flights_per_route"
   ]
  },
  {
   "cell_type": "markdown",
   "metadata": {},
   "source": [
    "\n",
    "<br/>\n",
    "\n",
    "### Sorting Values\n",
    "\n",
    "Use the `.sort_values()` series method to sort a Dataframe based on values of a column:\n"
   ]
  },
  {
   "cell_type": "code",
   "execution_count": null,
   "metadata": {},
   "outputs": [],
   "source": [
    "# get total flight distance by airline\n",
    "grouped = flights.groupby('airline').distance.sum()\n",
    "# sort in descending order\n",
    "grouped.sort_values(ascending=False)"
   ]
  }
 ],
 "metadata": {
  "kernelspec": {
   "display_name": "Python 3",
   "language": "python",
   "name": "python3"
  },
  "language_info": {
   "codemirror_mode": {
    "name": "ipython",
    "version": 3
   },
   "file_extension": ".py",
   "mimetype": "text/x-python",
   "name": "python",
   "nbconvert_exporter": "python",
   "pygments_lexer": "ipython3",
   "version": "3.7.9"
  }
 },
 "nbformat": 4,
 "nbformat_minor": 4
}