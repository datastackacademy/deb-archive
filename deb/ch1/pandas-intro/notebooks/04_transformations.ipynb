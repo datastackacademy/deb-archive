{
 "cells": [
  {
   "cell_type": "markdown",
   "metadata": {},
   "source": [
    "## Transformations\n",
    "\n",
    "<br/>\n",
    "\n",
    "### Map(): Single-Column Transformations\n",
    "\n",
    "Pandas comes very handy when it comes to applying transformation rules to columns. The simplest method is to apply a `map()` function to transform values withina a column:"
   ]
  },
  {
   "cell_type": "code",
   "execution_count": null,
   "metadata": {},
   "outputs": [],
   "source": [
    "import pandas as pd\n",
    "\n",
    "# read data fom csv\n",
    "flights = pd.read_csv('../data/flights.csv', header=0)\n",
    "\n",
    "def decode_airline(value:str):\n",
    "    mapper = {\n",
    "        'AA': 'American Airlines', \n",
    "        'AS': 'Alaska Airlines', \n",
    "        'DL': 'Delta Air Lines',\n",
    "        'UA': 'United Airlines', \n",
    "        'WN': 'Southwest Airlines',\n",
    "    }\n",
    "    if value in mapper:\n",
    "        return mapper[value]\n",
    "    else:\n",
    "        return 'Other'\n",
    "\n",
    "# decode airline names and assign to a new column\n",
    "flights['airline_name'] = flights.airline.map(decode_airline)\n",
    "\n",
    "# print decoded flights\n",
    "flights.loc[flights.airline_name != 'Other'][['airline', 'airline_name', 'src', 'dest']]\n"
   ]
  },
  {
   "cell_type": "markdown",
   "metadata": {},
   "source": [
    "Let's practice more to get familiar with using `map()` effectively:"
   ]
  },
  {
   "cell_type": "code",
   "execution_count": null,
   "metadata": {},
   "outputs": [],
   "source": [
    "from datetime import datetime, date\n",
    "\n",
    "def decode_flightdate(value):\n",
    "    # check if value is already a date instance? parse as date if not\n",
    "    if isinstance(value, date):\n",
    "        return value\n",
    "    else:\n",
    "        return datetime.strptime(value, '%Y-%m-%d').date()\n",
    "\n",
    "# re-assign flight_date as datetime\n",
    "flights.flight_date = flights.flight_date.map(decode_flightdate)\n",
    "\n",
    "# use lambda functions as map\n",
    "flights.distance = flights.distance.map(lambda v: int(v))\n",
    "\n",
    "print(flights.head(5))"
   ]
  },
  {
   "cell_type": "markdown",
   "metadata": {},
   "source": [
    "### Apply(): Multi-Column Transformations\n",
    "\n",
    "While the `.map()` method allows transformation over a single column, pandas Dataframe `.apply()` method allows transformtion over multiple column values. You can use `.apply()` when you need to transform more than one column within a row.\n",
    "\n",
    "For example `encode_flight_key` mtehod concatenates airline, flight_number, src, and dest fields  to create a unique flight key for each row:"
   ]
  },
  {
   "cell_type": "code",
   "execution_count": null,
   "metadata": {},
   "outputs": [],
   "source": [
    "import pandas as pd\n",
    "\n",
    "# read data fom csv\n",
    "flights = pd.read_csv('../data/flights.csv', header=0)\n",
    "\n",
    "def encode_flight_key(row):\n",
    "    # a dataframe row is passed. access columns with row.column_name\n",
    "    flight_key = f\"{row.airline}{row.flight_number}-{row.src}-{row.dest}\"\n",
    "    return flight_key\n",
    "\n",
    "# apply a function over entire row values\n",
    "# set axis=1 to apply function over rows. axis=0 would apply over columns\n",
    "flights['flight_key'] = flights.apply(encode_flight_key, axis=1)\n",
    "flights['flight_key']"
   ]
  },
  {
   "cell_type": "markdown",
   "metadata": {},
   "source": [
    "Pay attention to `axis=1` which directs pandas to apply the function horizontally over row values. `axis=0` directs pandas to apply a function vertically to all column values. Please refer to [DataFrame.apply](https://pandas.pydata.org/pandas-docs/stable/reference/api/pandas.DataFrame.apply.html) documentation for more information.\n",
    "\n",
    "Pandas passes the row values as the first parameter to the apply function. You can use the `args` parameter if your function requires more parameters. For example:"
   ]
  },
  {
   "cell_type": "code",
   "execution_count": null,
   "metadata": {},
   "outputs": [],
   "source": [
    "# passing more parameters to apply function by position\n",
    "def encode_flight_key(row, key_type):\n",
    "    # a dataframe row is passed. access columns with row.column_name\n",
    "    if key_type == \"short\":\n",
    "        flight_key = f\"{row.airline}{row.flight_number}-{row.src}-{row.dest}\"\n",
    "    else:\n",
    "        flight_key = f\"{row.flight_date}-{row.airline}{row.flight_number}-{row.src}-{row.dest}\"\n",
    "    return flight_key\n",
    "\n",
    "# apply a function over entire row values\n",
    "# pass additional positional parameters to apply function\n",
    "flights['flight_key'] = flights.apply(encode_flight_key, axis=1, args=(\"short\",))\n",
    "flights['flight_key_long'] = flights.apply(encode_flight_key, axis=1, args=(\"long\",))\n",
    "\n",
    "# print\n",
    "flights[['flight_key', 'flight_key_long']]"
   ]
  },
  {
   "cell_type": "markdown",
   "metadata": {},
   "source": [
    "### Complex\n",
    "\n",
    "The section below shows an example where we apply a function over multiple columns which produces multiple columns in a Dataframe. \n",
    "\n",
    "In this example, we will produce two new columns called \"is_commuter\" and \"is_long_distance\" depending on flight's duration and distance.\n"
   ]
  },
  {
   "cell_type": "code",
   "execution_count": null,
   "metadata": {},
   "outputs": [],
   "source": [
    "\n",
    "def encode_flight_type(row):\n",
    "    # commuter: distance less than 300 miles and flight time less than 90 mins\n",
    "    # long distance: distance greater than 1500 miles and flight time over 3 hours\n",
    "    is_commuter = row.distance < 300.0 and row.flight_time < 90.0\n",
    "    is_long_distance = row.distance > 1500.0 and row.flight_time > 180.0\n",
    "    # return a tuple\n",
    "    return (is_commuter, is_long_distance)\n",
    "\n",
    "# apply a function over row values and\n",
    "# unpack multiple return column values by using zip()\n",
    "flights['is_commuter'], flights['is_long_distance'] = zip(*flights.apply(\n",
    "                                                        encode_flight_type, axis=1))\n",
    "\n",
    "# print\n",
    "flights.loc[flights.is_commuter == True]"
   ]
  }
 ],
 "metadata": {
  "kernelspec": {
   "display_name": "Python 3",
   "language": "python",
   "name": "python3"
  },
  "language_info": {
   "codemirror_mode": {
    "name": "ipython",
    "version": 3
   },
   "file_extension": ".py",
   "mimetype": "text/x-python",
   "name": "python",
   "nbconvert_exporter": "python",
   "pygments_lexer": "ipython3",
   "version": "3.7.9"
  }
 },
 "nbformat": 4,
 "nbformat_minor": 4
}